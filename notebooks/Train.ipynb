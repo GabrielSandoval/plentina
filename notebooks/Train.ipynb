{
 "cells": [
  {
   "cell_type": "code",
   "execution_count": 1,
   "metadata": {},
   "outputs": [],
   "source": [
    "import pandas as pd\n",
    "import numpy as np\n",
    "\n",
    "from sklearn.neural_network import MLPClassifier\n",
    "from sklearn.preprocessing import LabelEncoder, StandardScaler\n",
    "from sklearn.model_selection import train_test_split\n",
    "from sklearn.metrics import confusion_matrix, accuracy_score, f1_score, roc_curve, roc_auc_score, plot_roc_curve\n",
    "\n",
    "import seaborn as sns\n",
    "import matplotlib.pyplot as plt\n",
    "\n",
    "import pickle"
   ]
  },
  {
   "cell_type": "code",
   "execution_count": 2,
   "metadata": {},
   "outputs": [
    {
     "data": {
      "text/html": [
       "<div>\n",
       "<style scoped>\n",
       "    .dataframe tbody tr th:only-of-type {\n",
       "        vertical-align: middle;\n",
       "    }\n",
       "\n",
       "    .dataframe tbody tr th {\n",
       "        vertical-align: top;\n",
       "    }\n",
       "\n",
       "    .dataframe thead th {\n",
       "        text-align: right;\n",
       "    }\n",
       "</style>\n",
       "<table border=\"1\" class=\"dataframe\">\n",
       "  <thead>\n",
       "    <tr style=\"text-align: right;\">\n",
       "      <th></th>\n",
       "      <th>step</th>\n",
       "      <th>type</th>\n",
       "      <th>amount</th>\n",
       "      <th>nameOrig</th>\n",
       "      <th>oldbalanceOrig</th>\n",
       "      <th>newbalanceOrig</th>\n",
       "      <th>nameDest</th>\n",
       "      <th>oldbalanceDest</th>\n",
       "      <th>newbalanceDest</th>\n",
       "      <th>isFraud</th>\n",
       "    </tr>\n",
       "  </thead>\n",
       "  <tbody>\n",
       "    <tr>\n",
       "      <th>0</th>\n",
       "      <td>1</td>\n",
       "      <td>PAYMENT</td>\n",
       "      <td>9839.64</td>\n",
       "      <td>C1231006815</td>\n",
       "      <td>170136.0</td>\n",
       "      <td>160296.36</td>\n",
       "      <td>M1979787155</td>\n",
       "      <td>0.0</td>\n",
       "      <td>0.0</td>\n",
       "      <td>0</td>\n",
       "    </tr>\n",
       "    <tr>\n",
       "      <th>1</th>\n",
       "      <td>1</td>\n",
       "      <td>PAYMENT</td>\n",
       "      <td>1864.28</td>\n",
       "      <td>C1666544295</td>\n",
       "      <td>21249.0</td>\n",
       "      <td>19384.72</td>\n",
       "      <td>M2044282225</td>\n",
       "      <td>0.0</td>\n",
       "      <td>0.0</td>\n",
       "      <td>0</td>\n",
       "    </tr>\n",
       "    <tr>\n",
       "      <th>2</th>\n",
       "      <td>1</td>\n",
       "      <td>TRANSFER</td>\n",
       "      <td>181.00</td>\n",
       "      <td>C1305486145</td>\n",
       "      <td>181.0</td>\n",
       "      <td>0.00</td>\n",
       "      <td>C553264065</td>\n",
       "      <td>0.0</td>\n",
       "      <td>0.0</td>\n",
       "      <td>1</td>\n",
       "    </tr>\n",
       "    <tr>\n",
       "      <th>3</th>\n",
       "      <td>1</td>\n",
       "      <td>CASH_OUT</td>\n",
       "      <td>181.00</td>\n",
       "      <td>C840083671</td>\n",
       "      <td>181.0</td>\n",
       "      <td>0.00</td>\n",
       "      <td>C38997010</td>\n",
       "      <td>21182.0</td>\n",
       "      <td>0.0</td>\n",
       "      <td>1</td>\n",
       "    </tr>\n",
       "    <tr>\n",
       "      <th>4</th>\n",
       "      <td>1</td>\n",
       "      <td>PAYMENT</td>\n",
       "      <td>11668.14</td>\n",
       "      <td>C2048537720</td>\n",
       "      <td>41554.0</td>\n",
       "      <td>29885.86</td>\n",
       "      <td>M1230701703</td>\n",
       "      <td>0.0</td>\n",
       "      <td>0.0</td>\n",
       "      <td>0</td>\n",
       "    </tr>\n",
       "  </tbody>\n",
       "</table>\n",
       "</div>"
      ],
      "text/plain": [
       "   step      type    amount     nameOrig  oldbalanceOrig  newbalanceOrig  \\\n",
       "0     1   PAYMENT   9839.64  C1231006815        170136.0       160296.36   \n",
       "1     1   PAYMENT   1864.28  C1666544295         21249.0        19384.72   \n",
       "2     1  TRANSFER    181.00  C1305486145           181.0            0.00   \n",
       "3     1  CASH_OUT    181.00   C840083671           181.0            0.00   \n",
       "4     1   PAYMENT  11668.14  C2048537720         41554.0        29885.86   \n",
       "\n",
       "      nameDest  oldbalanceDest  newbalanceDest  isFraud  \n",
       "0  M1979787155             0.0             0.0        0  \n",
       "1  M2044282225             0.0             0.0        0  \n",
       "2   C553264065             0.0             0.0        1  \n",
       "3    C38997010         21182.0             0.0        1  \n",
       "4  M1230701703             0.0             0.0        0  "
      ]
     },
     "execution_count": 2,
     "metadata": {},
     "output_type": "execute_result"
    }
   ],
   "source": [
    "transactions = pd.read_csv(\"../data/transactions_train.csv\")\n",
    "transactions.head()"
   ]
  },
  {
   "cell_type": "markdown",
   "metadata": {},
   "source": [
    "### Feature Selection"
   ]
  },
  {
   "cell_type": "markdown",
   "metadata": {},
   "source": [
    "#### Encode categorical values"
   ]
  },
  {
   "cell_type": "code",
   "execution_count": 3,
   "metadata": {},
   "outputs": [
    {
     "data": {
      "text/html": [
       "<div>\n",
       "<style scoped>\n",
       "    .dataframe tbody tr th:only-of-type {\n",
       "        vertical-align: middle;\n",
       "    }\n",
       "\n",
       "    .dataframe tbody tr th {\n",
       "        vertical-align: top;\n",
       "    }\n",
       "\n",
       "    .dataframe thead th {\n",
       "        text-align: right;\n",
       "    }\n",
       "</style>\n",
       "<table border=\"1\" class=\"dataframe\">\n",
       "  <thead>\n",
       "    <tr style=\"text-align: right;\">\n",
       "      <th></th>\n",
       "      <th>step</th>\n",
       "      <th>type</th>\n",
       "      <th>amount</th>\n",
       "      <th>nameOrig</th>\n",
       "      <th>oldbalanceOrig</th>\n",
       "      <th>newbalanceOrig</th>\n",
       "      <th>nameDest</th>\n",
       "      <th>oldbalanceDest</th>\n",
       "      <th>newbalanceDest</th>\n",
       "      <th>isFraud</th>\n",
       "    </tr>\n",
       "  </thead>\n",
       "  <tbody>\n",
       "    <tr>\n",
       "      <th>0</th>\n",
       "      <td>1</td>\n",
       "      <td>3</td>\n",
       "      <td>9839.64</td>\n",
       "      <td>824393</td>\n",
       "      <td>170136.00</td>\n",
       "      <td>160296.36</td>\n",
       "      <td>7998496</td>\n",
       "      <td>0.00</td>\n",
       "      <td>0.00</td>\n",
       "      <td>0</td>\n",
       "    </tr>\n",
       "    <tr>\n",
       "      <th>1</th>\n",
       "      <td>1</td>\n",
       "      <td>3</td>\n",
       "      <td>1864.28</td>\n",
       "      <td>2380989</td>\n",
       "      <td>21249.00</td>\n",
       "      <td>19384.72</td>\n",
       "      <td>8070214</td>\n",
       "      <td>0.00</td>\n",
       "      <td>0.00</td>\n",
       "      <td>0</td>\n",
       "    </tr>\n",
       "    <tr>\n",
       "      <th>2</th>\n",
       "      <td>1</td>\n",
       "      <td>4</td>\n",
       "      <td>181.00</td>\n",
       "      <td>1090175</td>\n",
       "      <td>181.00</td>\n",
       "      <td>0.00</td>\n",
       "      <td>5311503</td>\n",
       "      <td>0.00</td>\n",
       "      <td>0.00</td>\n",
       "      <td>1</td>\n",
       "    </tr>\n",
       "    <tr>\n",
       "      <th>3</th>\n",
       "      <td>1</td>\n",
       "      <td>1</td>\n",
       "      <td>181.00</td>\n",
       "      <td>6339178</td>\n",
       "      <td>181.00</td>\n",
       "      <td>0.00</td>\n",
       "      <td>4728056</td>\n",
       "      <td>21182.00</td>\n",
       "      <td>0.00</td>\n",
       "      <td>1</td>\n",
       "    </tr>\n",
       "    <tr>\n",
       "      <th>4</th>\n",
       "      <td>1</td>\n",
       "      <td>3</td>\n",
       "      <td>11668.14</td>\n",
       "      <td>3748163</td>\n",
       "      <td>41554.00</td>\n",
       "      <td>29885.86</td>\n",
       "      <td>7166743</td>\n",
       "      <td>0.00</td>\n",
       "      <td>0.00</td>\n",
       "      <td>0</td>\n",
       "    </tr>\n",
       "    <tr>\n",
       "      <th>...</th>\n",
       "      <td>...</td>\n",
       "      <td>...</td>\n",
       "      <td>...</td>\n",
       "      <td>...</td>\n",
       "      <td>...</td>\n",
       "      <td>...</td>\n",
       "      <td>...</td>\n",
       "      <td>...</td>\n",
       "      <td>...</td>\n",
       "      <td>...</td>\n",
       "    </tr>\n",
       "    <tr>\n",
       "      <th>6351188</th>\n",
       "      <td>699</td>\n",
       "      <td>4</td>\n",
       "      <td>162326.52</td>\n",
       "      <td>1991349</td>\n",
       "      <td>162326.52</td>\n",
       "      <td>0.00</td>\n",
       "      <td>4779873</td>\n",
       "      <td>0.00</td>\n",
       "      <td>0.00</td>\n",
       "      <td>1</td>\n",
       "    </tr>\n",
       "    <tr>\n",
       "      <th>6351189</th>\n",
       "      <td>699</td>\n",
       "      <td>1</td>\n",
       "      <td>162326.52</td>\n",
       "      <td>1901608</td>\n",
       "      <td>162326.52</td>\n",
       "      <td>0.00</td>\n",
       "      <td>4928330</td>\n",
       "      <td>0.00</td>\n",
       "      <td>162326.52</td>\n",
       "      <td>1</td>\n",
       "    </tr>\n",
       "    <tr>\n",
       "      <th>6351190</th>\n",
       "      <td>699</td>\n",
       "      <td>4</td>\n",
       "      <td>2763398.31</td>\n",
       "      <td>5399407</td>\n",
       "      <td>2763398.31</td>\n",
       "      <td>0.00</td>\n",
       "      <td>5549335</td>\n",
       "      <td>0.00</td>\n",
       "      <td>0.00</td>\n",
       "      <td>1</td>\n",
       "    </tr>\n",
       "    <tr>\n",
       "      <th>6351191</th>\n",
       "      <td>699</td>\n",
       "      <td>1</td>\n",
       "      <td>2763398.31</td>\n",
       "      <td>1755670</td>\n",
       "      <td>2763398.31</td>\n",
       "      <td>0.00</td>\n",
       "      <td>4958084</td>\n",
       "      <td>339515.35</td>\n",
       "      <td>3102913.66</td>\n",
       "      <td>1</td>\n",
       "    </tr>\n",
       "    <tr>\n",
       "      <th>6351192</th>\n",
       "      <td>699</td>\n",
       "      <td>2</td>\n",
       "      <td>578.21</td>\n",
       "      <td>5840262</td>\n",
       "      <td>10575.00</td>\n",
       "      <td>9996.79</td>\n",
       "      <td>983850</td>\n",
       "      <td>127072.23</td>\n",
       "      <td>127650.44</td>\n",
       "      <td>0</td>\n",
       "    </tr>\n",
       "  </tbody>\n",
       "</table>\n",
       "<p>6351193 rows × 10 columns</p>\n",
       "</div>"
      ],
      "text/plain": [
       "         step  type      amount  nameOrig  oldbalanceOrig  newbalanceOrig  \\\n",
       "0           1     3     9839.64    824393       170136.00       160296.36   \n",
       "1           1     3     1864.28   2380989        21249.00        19384.72   \n",
       "2           1     4      181.00   1090175          181.00            0.00   \n",
       "3           1     1      181.00   6339178          181.00            0.00   \n",
       "4           1     3    11668.14   3748163        41554.00        29885.86   \n",
       "...       ...   ...         ...       ...             ...             ...   \n",
       "6351188   699     4   162326.52   1991349       162326.52            0.00   \n",
       "6351189   699     1   162326.52   1901608       162326.52            0.00   \n",
       "6351190   699     4  2763398.31   5399407      2763398.31            0.00   \n",
       "6351191   699     1  2763398.31   1755670      2763398.31            0.00   \n",
       "6351192   699     2      578.21   5840262        10575.00         9996.79   \n",
       "\n",
       "         nameDest  oldbalanceDest  newbalanceDest  isFraud  \n",
       "0         7998496            0.00            0.00        0  \n",
       "1         8070214            0.00            0.00        0  \n",
       "2         5311503            0.00            0.00        1  \n",
       "3         4728056        21182.00            0.00        1  \n",
       "4         7166743            0.00            0.00        0  \n",
       "...           ...             ...             ...      ...  \n",
       "6351188   4779873            0.00            0.00        1  \n",
       "6351189   4928330            0.00       162326.52        1  \n",
       "6351190   5549335            0.00            0.00        1  \n",
       "6351191   4958084       339515.35      3102913.66        1  \n",
       "6351192    983850       127072.23       127650.44        0  \n",
       "\n",
       "[6351193 rows x 10 columns]"
      ]
     },
     "execution_count": 3,
     "metadata": {},
     "output_type": "execute_result"
    }
   ],
   "source": [
    "origNames = np.array(transactions[\"nameOrig\"].unique())\n",
    "destNames = np.array(transactions[\"nameDest\"].unique())\n",
    "account_names = np.unique(np.concatenate((origNames, destNames)))\n",
    "account_encoder = LabelEncoder()\n",
    "account_encoder.fit(account_names)\n",
    "account_encoder.classes_ = np.append(account_encoder.classes_, \"<unknown>\")\n",
    "\n",
    "type_encoder = LabelEncoder()\n",
    "type_names = transactions[\"type\"].unique()\n",
    "type_encoder.fit(type_names)\n",
    "type_encoder.classes_ = np.append(type_encoder.classes_, \"<unknown>\")\n",
    "\n",
    "transactions[\"nameOrig\"] = account_encoder.transform(transactions[\"nameOrig\"])\n",
    "transactions[\"nameDest\"] = account_encoder.transform(transactions[\"nameDest\"])\n",
    "transactions[\"type\"]     = type_encoder.transform(transactions[\"type\"])\n",
    "\n",
    "transactions"
   ]
  },
  {
   "cell_type": "code",
   "execution_count": 4,
   "metadata": {},
   "outputs": [
    {
     "name": "stdout",
     "output_type": "stream",
     "text": [
      "Fraud: 0.12%\n",
      "Non-fraud: 99.88%\n"
     ]
    }
   ],
   "source": [
    "print(\"Fraud: {:.2f}%\".format(len(transactions[transactions[\"isFraud\"] == 1])/len(transactions)*100))\n",
    "print(\"Non-fraud: {:.2f}%\".format(len(transactions[transactions[\"isFraud\"] == 0])/len(transactions)*100))"
   ]
  },
  {
   "cell_type": "markdown",
   "metadata": {},
   "source": [
    "#### Correlation Matrix"
   ]
  },
  {
   "cell_type": "code",
   "execution_count": 5,
   "metadata": {},
   "outputs": [
    {
     "data": {
      "image/png": "[encoded data removed]",
      "text/plain": [
       "<Figure size 1440x1440 with 2 Axes>"
      ]
     },
     "metadata": {
      "needs_background": "light"
     },
     "output_type": "display_data"
    }
   ],
   "source": [
    "corrmat = transactions.corr()\n",
    "top_corr_features = corrmat.index\n",
    "plt.figure(figsize=(20,20))\n",
    "g = sns.heatmap(transactions[top_corr_features].corr(), annot=True, cmap=\"RdYlGn\")"
   ]
  },
  {
   "cell_type": "code",
   "execution_count": 6,
   "metadata": {},
   "outputs": [
    {
     "name": "stdout",
     "output_type": "stream",
     "text": [
      "          Feature         Score\n",
      "2          amount  6.923491e+10\n",
      "3  oldbalanceOrig  5.408668e+09\n",
      "4  newbalanceOrig  4.398255e+09\n",
      "5  oldbalanceDest  2.132760e+09\n",
      "6  newbalanceDest  1.720156e+07\n",
      "0            step  3.387000e+05\n",
      "1            type  2.757696e+03\n"
     ]
    }
   ],
   "source": [
    "# K-Best features using chi2\n",
    "from sklearn.feature_selection import SelectKBest, chi2\n",
    "\n",
    "X = transactions.drop(['isFraud', 'nameDest', 'nameOrig'], axis=1)\n",
    "Y = transactions[\"isFraud\"]\n",
    "\n",
    "bestfeatures = SelectKBest(score_func=chi2, k=7)\n",
    "fit = bestfeatures.fit(X, Y)\n",
    "dfscores = pd.DataFrame(fit.scores_)\n",
    "dfcolumns = pd.DataFrame(X.columns)\n",
    "featureScores = pd.concat([dfcolumns, dfscores], axis=1)\n",
    "featureScores.columns = [\"Feature\", \"Score\"]\n",
    "print(featureScores.nlargest(7, \"Score\"))"
   ]
  },
  {
   "cell_type": "markdown",
   "metadata": {},
   "source": [
    "### Train-test split"
   ]
  },
  {
   "cell_type": "code",
   "execution_count": 7,
   "metadata": {},
   "outputs": [
    {
     "name": "stdout",
     "output_type": "stream",
     "text": [
      "y_train Fraud: 99.88%\n",
      "y_train Non-fraud: 0.12%\n",
      "y_test Fraud: 99.88%\n",
      "y_test Non-fraud: 0.12%\n"
     ]
    }
   ],
   "source": [
    "transactions = pd.read_csv(\"../data/transactions_train.csv\")\n",
    "X = transactions[[\"type\", \"amount\", \"oldbalanceOrig\", \"newbalanceOrig\", \"oldbalanceDest\", \"newbalanceDest\"]]\n",
    "Y = transactions[\"isFraud\"]\n",
    "X_train, X_test, y_train, y_test = train_test_split(X, Y, test_size=0.2)\n",
    "\n",
    "print(\"y_train Fraud: {:.2f}%\".format(y_train.value_counts()[0]/len(y_train)*100))\n",
    "print(\"y_train Non-fraud: {:.2f}%\".format(y_train.value_counts()[1]/len(y_train)*100))\n",
    "print(\"y_test Fraud: {:.2f}%\".format(y_test.value_counts()[0]/len(y_test)*100))\n",
    "print(\"y_test Non-fraud: {:.2f}%\".format(y_test.value_counts()[1]/len(y_test)*100))"
   ]
  },
  {
   "cell_type": "code",
   "execution_count": 8,
   "metadata": {},
   "outputs": [],
   "source": [
    "# Encode type\n",
    "type_encoder = LabelEncoder()\n",
    "type_names = X_train[\"type\"].unique()\n",
    "type_encoder.fit(type_names)\n",
    "type_encoder.classes_ = np.append(type_encoder.classes_, \"<unknown>\")\n",
    "\n",
    "X_train[\"type\"]     = type_encoder.transform(X_train[\"type\"])"
   ]
  },
  {
   "cell_type": "markdown",
   "metadata": {},
   "source": [
    "### Normalize"
   ]
  },
  {
   "cell_type": "code",
   "execution_count": 9,
   "metadata": {},
   "outputs": [],
   "source": [
    "scaler = StandardScaler()\n",
    "X_train = scaler.fit_transform(X_train)"
   ]
  },
  {
   "cell_type": "markdown",
   "metadata": {},
   "source": [
    "### Balance Dataset"
   ]
  },
  {
   "cell_type": "code",
   "execution_count": 10,
   "metadata": {},
   "outputs": [
    {
     "name": "stdout",
     "output_type": "stream",
     "text": [
      "Distribution of y_train set BEFORE over and under sampling: {} Counter({0: 5074767, 1: 6187})\n",
      "Distribution of y_train set AFTER over and under sampling: {} Counter({0: 3093500, 1: 30935})\n"
     ]
    }
   ],
   "source": [
    "from imblearn.over_sampling import SMOTE\n",
    "from imblearn.under_sampling import RandomUnderSampler\n",
    "from collections import Counter\n",
    "\n",
    "print(\"Distribution of y_train set BEFORE over and under sampling: {}\", Counter(y_train))\n",
    "under = RandomUnderSampler(sampling_strategy=0.002)\n",
    "over = SMOTE(sampling_strategy=0.01)\n",
    "X_train_smote, y_train_smote = under.fit_resample(X_train, y_train)\n",
    "X_train_both, y_train_both = over.fit_resample(X_train_smote, y_train_smote)\n",
    "print(\"Distribution of y_train set AFTER over and under sampling: {}\", Counter(y_train_both))"
   ]
  },
  {
   "cell_type": "markdown",
   "metadata": {},
   "source": [
    "### Train model"
   ]
  },
  {
   "cell_type": "code",
   "execution_count": 11,
   "metadata": {},
   "outputs": [
    {
     "data": {
      "text/html": [
       "<div>\n",
       "<style scoped>\n",
       "    .dataframe tbody tr th:only-of-type {\n",
       "        vertical-align: middle;\n",
       "    }\n",
       "\n",
       "    .dataframe tbody tr th {\n",
       "        vertical-align: top;\n",
       "    }\n",
       "\n",
       "    .dataframe thead th {\n",
       "        text-align: right;\n",
       "    }\n",
       "</style>\n",
       "<table border=\"1\" class=\"dataframe\">\n",
       "  <thead>\n",
       "    <tr style=\"text-align: right;\">\n",
       "      <th></th>\n",
       "      <th>fit_time</th>\n",
       "      <th>score_time</th>\n",
       "      <th>test_f1</th>\n",
       "      <th>test_accuracy</th>\n",
       "    </tr>\n",
       "  </thead>\n",
       "  <tbody>\n",
       "    <tr>\n",
       "      <th>0</th>\n",
       "      <td>529.892842</td>\n",
       "      <td>0.317937</td>\n",
       "      <td>0.861751</td>\n",
       "      <td>0.997504</td>\n",
       "    </tr>\n",
       "    <tr>\n",
       "      <th>1</th>\n",
       "      <td>559.325165</td>\n",
       "      <td>0.495592</td>\n",
       "      <td>0.894872</td>\n",
       "      <td>0.998038</td>\n",
       "    </tr>\n",
       "    <tr>\n",
       "      <th>2</th>\n",
       "      <td>503.506663</td>\n",
       "      <td>0.401128</td>\n",
       "      <td>0.911148</td>\n",
       "      <td>0.998265</td>\n",
       "    </tr>\n",
       "    <tr>\n",
       "      <th>3</th>\n",
       "      <td>704.073170</td>\n",
       "      <td>0.462276</td>\n",
       "      <td>0.900936</td>\n",
       "      <td>0.998035</td>\n",
       "    </tr>\n",
       "    <tr>\n",
       "      <th>4</th>\n",
       "      <td>266.771024</td>\n",
       "      <td>0.208627</td>\n",
       "      <td>0.903909</td>\n",
       "      <td>0.998198</td>\n",
       "    </tr>\n",
       "    <tr>\n",
       "      <th>5</th>\n",
       "      <td>543.052503</td>\n",
       "      <td>0.312112</td>\n",
       "      <td>0.896756</td>\n",
       "      <td>0.998105</td>\n",
       "    </tr>\n",
       "    <tr>\n",
       "      <th>6</th>\n",
       "      <td>464.462936</td>\n",
       "      <td>0.419685</td>\n",
       "      <td>0.884234</td>\n",
       "      <td>0.997648</td>\n",
       "    </tr>\n",
       "    <tr>\n",
       "      <th>7</th>\n",
       "      <td>561.488371</td>\n",
       "      <td>0.331772</td>\n",
       "      <td>0.869035</td>\n",
       "      <td>0.997593</td>\n",
       "    </tr>\n",
       "    <tr>\n",
       "      <th>8</th>\n",
       "      <td>412.814863</td>\n",
       "      <td>0.254383</td>\n",
       "      <td>0.892661</td>\n",
       "      <td>0.997936</td>\n",
       "    </tr>\n",
       "    <tr>\n",
       "      <th>9</th>\n",
       "      <td>459.405711</td>\n",
       "      <td>0.213352</td>\n",
       "      <td>0.928134</td>\n",
       "      <td>0.998573</td>\n",
       "    </tr>\n",
       "  </tbody>\n",
       "</table>\n",
       "</div>"
      ],
      "text/plain": [
       "     fit_time  score_time   test_f1  test_accuracy\n",
       "0  529.892842    0.317937  0.861751       0.997504\n",
       "1  559.325165    0.495592  0.894872       0.998038\n",
       "2  503.506663    0.401128  0.911148       0.998265\n",
       "3  704.073170    0.462276  0.900936       0.998035\n",
       "4  266.771024    0.208627  0.903909       0.998198\n",
       "5  543.052503    0.312112  0.896756       0.998105\n",
       "6  464.462936    0.419685  0.884234       0.997648\n",
       "7  561.488371    0.331772  0.869035       0.997593\n",
       "8  412.814863    0.254383  0.892661       0.997936\n",
       "9  459.405711    0.213352  0.928134       0.998573"
      ]
     },
     "execution_count": 11,
     "metadata": {},
     "output_type": "execute_result"
    }
   ],
   "source": [
    "from sklearn.model_selection import KFold, cross_validate\n",
    "\n",
    "kfold = KFold(n_splits=10, shuffle=True)\n",
    "model = MLPClassifier(hidden_layer_sizes=(8,16,16,8), max_iter=50, alpha=1e-5, solver='adam')\n",
    "scores = cross_validate(model, X_train_both, y_train_both, cv=kfold, scoring=['f1', 'accuracy'])\n",
    "model = model.fit(X_train_both, y_train_both)\n",
    "results = pd.DataFrame(scores)\n",
    "results"
   ]
  },
  {
   "cell_type": "code",
   "execution_count": 12,
   "metadata": {},
   "outputs": [
    {
     "data": {
      "image/png": "[encoded data removed]",
      "text/plain": [
       "<Figure size 432x288 with 1 Axes>"
      ]
     },
     "metadata": {
      "needs_background": "light"
     },
     "output_type": "display_data"
    }
   ],
   "source": [
    "results = pd.melt(results, var_name='metric', value_vars=['test_f1', 'test_accuracy'])\n",
    "g = sns.boxplot(x=\"metric\", y=\"value\", data=results, palette=\"Set3\")\n",
    "plt.title('Comparison of Model by Classification Metric')\n",
    "plt.show()"
   ]
  },
  {
   "cell_type": "markdown",
   "metadata": {},
   "source": [
    "### Evaluate"
   ]
  },
  {
   "cell_type": "code",
   "execution_count": 13,
   "metadata": {},
   "outputs": [],
   "source": [
    "X_test.loc[~X_test.type.isin(type_encoder.classes_), 'type'] = \"<unknown>\"\n",
    "X_test[\"type\"] = type_encoder.transform(X_test[\"type\"])"
   ]
  },
  {
   "cell_type": "code",
   "execution_count": 14,
   "metadata": {},
   "outputs": [],
   "source": [
    "X_test = scaler.transform(X_test)"
   ]
  },
  {
   "cell_type": "code",
   "execution_count": 15,
   "metadata": {},
   "outputs": [
    {
     "name": "stdout",
     "output_type": "stream",
     "text": [
      "F1Score: 0.8028\n",
      "Accuracy: 0.9995\n",
      "Confusion Matrix:\n",
      "[[1268336     373]\n",
      " [    254    1276]]\n",
      "\n"
     ]
    }
   ],
   "source": [
    "predictions = model.predict(X_test)\n",
    "\n",
    "f1score = f1_score(y_test, predictions).round(4)\n",
    "accuracy = accuracy_score(y_test, predictions).round(4)\n",
    "cm = confusion_matrix(y_test,predictions)\n",
    "\n",
    "print(\"F1Score: {}\".format(f1score))\n",
    "print(\"Accuracy: {}\".format(accuracy))\n",
    "print(\"Confusion Matrix:\\n{}\".format(cm))\n",
    "print()"
   ]
  },
  {
   "cell_type": "code",
   "execution_count": 16,
   "metadata": {},
   "outputs": [
    {
     "name": "stderr",
     "output_type": "stream",
     "text": [
      "/Users/gabriel/anaconda3/lib/python3.8/site-packages/sklearn/utils/deprecation.py:87: FutureWarning: Function plot_roc_curve is deprecated; Function `plot_roc_curve` is deprecated in 1.0 and will be removed in 1.2. Use one of the class methods: RocCurveDisplay.from_predictions or RocCurveDisplay.from_estimator.\n",
      "  warnings.warn(msg, category=FutureWarning)\n"
     ]
    },
    {
     "data": {
      "image/png": "[encoded data removed]",
      "text/plain": [
       "<Figure size 432x288 with 1 Axes>"
      ]
     },
     "metadata": {
      "needs_background": "light"
     },
     "output_type": "display_data"
    }
   ],
   "source": [
    "plot_roc_curve(model, X_test, y_test)\n",
    "plt.show()"
   ]
  },
  {
   "cell_type": "markdown",
   "metadata": {},
   "source": [
    "### Store Artifacts"
   ]
  },
  {
   "cell_type": "code",
   "execution_count": 17,
   "metadata": {},
   "outputs": [],
   "source": [
    "def dump_artifact(artifact, artifact_path):\n",
    "    with open(artifact_path, 'wb') as handle:\n",
    "        pickle.dump(artifact, handle, protocol=pickle.HIGHEST_PROTOCOL)\n",
    "\n",
    "artifacts = {\n",
    "    \"type_encoder\": type_encoder,\n",
    "    \"model\": model,\n",
    "    \"scaler\": scaler\n",
    "}\n",
    "dump_artifact(artifacts, \"../artifacts/artifacts.pkl\")"
   ]
  }
 ],
 "metadata": {
  "kernelspec": {
   "display_name": "Python 3",
   "language": "python",
   "name": "python3"
  },
  "language_info": {
   "codemirror_mode": {
    "name": "ipython",
    "version": 3
   },
   "file_extension": ".py",
   "mimetype": "text/x-python",
   "name": "python",
   "nbconvert_exporter": "python",
   "pygments_lexer": "ipython3",
   "version": "3.8.5"
  }
 },
 "nbformat": 4,
 "nbformat_minor": 4
}
