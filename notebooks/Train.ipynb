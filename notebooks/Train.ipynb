{
 "cells": [
  {
   "cell_type": "code",
   "execution_count": 1,
   "metadata": {},
   "outputs": [],
   "source": [
    "import pandas as pd\n",
    "import numpy as np\n",
    "\n",
    "from sklearn.neural_network import MLPClassifier\n",
    "from sklearn.preprocessing import LabelEncoder, StandardScaler\n",
    "from sklearn.model_selection import train_test_split\n",
    "from sklearn.metrics import confusion_matrix, accuracy_score, f1_score, roc_curve, roc_auc_score\n",
    "from sklearn.metrics import RocCurveDisplay\n",
    "from sklearn.model_selection import KFold\n",
    "from imblearn.over_sampling import SMOTE\n",
    "from imblearn.under_sampling import RandomUnderSampler\n",
    "from collections import Counter\n",
    "\n",
    "import seaborn as sns\n",
    "import matplotlib.pyplot as plt\n",
    "\n",
    "import pickle\n",
    "\n",
    "import warnings\n",
    "warnings.filterwarnings('ignore')"
   ]
  },
  {
   "cell_type": "code",
   "execution_count": 2,
   "metadata": {},
   "outputs": [
    {
     "data": {
      "text/html": [
       "<div>\n",
       "<style scoped>\n",
       "    .dataframe tbody tr th:only-of-type {\n",
       "        vertical-align: middle;\n",
       "    }\n",
       "\n",
       "    .dataframe tbody tr th {\n",
       "        vertical-align: top;\n",
       "    }\n",
       "\n",
       "    .dataframe thead th {\n",
       "        text-align: right;\n",
       "    }\n",
       "</style>\n",
       "<table border=\"1\" class=\"dataframe\">\n",
       "  <thead>\n",
       "    <tr style=\"text-align: right;\">\n",
       "      <th></th>\n",
       "      <th>step</th>\n",
       "      <th>type</th>\n",
       "      <th>amount</th>\n",
       "      <th>nameOrig</th>\n",
       "      <th>oldbalanceOrig</th>\n",
       "      <th>newbalanceOrig</th>\n",
       "      <th>nameDest</th>\n",
       "      <th>oldbalanceDest</th>\n",
       "      <th>newbalanceDest</th>\n",
       "      <th>isFraud</th>\n",
       "    </tr>\n",
       "  </thead>\n",
       "  <tbody>\n",
       "    <tr>\n",
       "      <th>0</th>\n",
       "      <td>1</td>\n",
       "      <td>PAYMENT</td>\n",
       "      <td>9839.64</td>\n",
       "      <td>C1231006815</td>\n",
       "      <td>170136.0</td>\n",
       "      <td>160296.36</td>\n",
       "      <td>M1979787155</td>\n",
       "      <td>0.0</td>\n",
       "      <td>0.0</td>\n",
       "      <td>0</td>\n",
       "    </tr>\n",
       "    <tr>\n",
       "      <th>1</th>\n",
       "      <td>1</td>\n",
       "      <td>PAYMENT</td>\n",
       "      <td>1864.28</td>\n",
       "      <td>C1666544295</td>\n",
       "      <td>21249.0</td>\n",
       "      <td>19384.72</td>\n",
       "      <td>M2044282225</td>\n",
       "      <td>0.0</td>\n",
       "      <td>0.0</td>\n",
       "      <td>0</td>\n",
       "    </tr>\n",
       "    <tr>\n",
       "      <th>2</th>\n",
       "      <td>1</td>\n",
       "      <td>TRANSFER</td>\n",
       "      <td>181.00</td>\n",
       "      <td>C1305486145</td>\n",
       "      <td>181.0</td>\n",
       "      <td>0.00</td>\n",
       "      <td>C553264065</td>\n",
       "      <td>0.0</td>\n",
       "      <td>0.0</td>\n",
       "      <td>1</td>\n",
       "    </tr>\n",
       "    <tr>\n",
       "      <th>3</th>\n",
       "      <td>1</td>\n",
       "      <td>CASH_OUT</td>\n",
       "      <td>181.00</td>\n",
       "      <td>C840083671</td>\n",
       "      <td>181.0</td>\n",
       "      <td>0.00</td>\n",
       "      <td>C38997010</td>\n",
       "      <td>21182.0</td>\n",
       "      <td>0.0</td>\n",
       "      <td>1</td>\n",
       "    </tr>\n",
       "    <tr>\n",
       "      <th>4</th>\n",
       "      <td>1</td>\n",
       "      <td>PAYMENT</td>\n",
       "      <td>11668.14</td>\n",
       "      <td>C2048537720</td>\n",
       "      <td>41554.0</td>\n",
       "      <td>29885.86</td>\n",
       "      <td>M1230701703</td>\n",
       "      <td>0.0</td>\n",
       "      <td>0.0</td>\n",
       "      <td>0</td>\n",
       "    </tr>\n",
       "  </tbody>\n",
       "</table>\n",
       "</div>"
      ],
      "text/plain": [
       "   step      type    amount     nameOrig  oldbalanceOrig  newbalanceOrig  \\\n",
       "0     1   PAYMENT   9839.64  C1231006815        170136.0       160296.36   \n",
       "1     1   PAYMENT   1864.28  C1666544295         21249.0        19384.72   \n",
       "2     1  TRANSFER    181.00  C1305486145           181.0            0.00   \n",
       "3     1  CASH_OUT    181.00   C840083671           181.0            0.00   \n",
       "4     1   PAYMENT  11668.14  C2048537720         41554.0        29885.86   \n",
       "\n",
       "      nameDest  oldbalanceDest  newbalanceDest  isFraud  \n",
       "0  M1979787155             0.0             0.0        0  \n",
       "1  M2044282225             0.0             0.0        0  \n",
       "2   C553264065             0.0             0.0        1  \n",
       "3    C38997010         21182.0             0.0        1  \n",
       "4  M1230701703             0.0             0.0        0  "
      ]
     },
     "execution_count": 2,
     "metadata": {},
     "output_type": "execute_result"
    }
   ],
   "source": [
    "transactions = pd.read_csv(\"../data/transactions_train.csv\")\n",
    "transactions.head()"
   ]
  },
  {
   "cell_type": "markdown",
   "metadata": {},
   "source": [
    "### Feature Selection"
   ]
  },
  {
   "cell_type": "markdown",
   "metadata": {},
   "source": [
    "#### Encode categorical values"
   ]
  },
  {
   "cell_type": "code",
   "execution_count": 3,
   "metadata": {},
   "outputs": [
    {
     "data": {
      "text/html": [
       "<div>\n",
       "<style scoped>\n",
       "    .dataframe tbody tr th:only-of-type {\n",
       "        vertical-align: middle;\n",
       "    }\n",
       "\n",
       "    .dataframe tbody tr th {\n",
       "        vertical-align: top;\n",
       "    }\n",
       "\n",
       "    .dataframe thead th {\n",
       "        text-align: right;\n",
       "    }\n",
       "</style>\n",
       "<table border=\"1\" class=\"dataframe\">\n",
       "  <thead>\n",
       "    <tr style=\"text-align: right;\">\n",
       "      <th></th>\n",
       "      <th>step</th>\n",
       "      <th>type</th>\n",
       "      <th>amount</th>\n",
       "      <th>nameOrig</th>\n",
       "      <th>oldbalanceOrig</th>\n",
       "      <th>newbalanceOrig</th>\n",
       "      <th>nameDest</th>\n",
       "      <th>oldbalanceDest</th>\n",
       "      <th>newbalanceDest</th>\n",
       "      <th>isFraud</th>\n",
       "    </tr>\n",
       "  </thead>\n",
       "  <tbody>\n",
       "    <tr>\n",
       "      <th>0</th>\n",
       "      <td>1</td>\n",
       "      <td>3</td>\n",
       "      <td>9839.64</td>\n",
       "      <td>C1231006815</td>\n",
       "      <td>170136.00</td>\n",
       "      <td>160296.36</td>\n",
       "      <td>M1979787155</td>\n",
       "      <td>0.00</td>\n",
       "      <td>0.00</td>\n",
       "      <td>0</td>\n",
       "    </tr>\n",
       "    <tr>\n",
       "      <th>1</th>\n",
       "      <td>1</td>\n",
       "      <td>3</td>\n",
       "      <td>1864.28</td>\n",
       "      <td>C1666544295</td>\n",
       "      <td>21249.00</td>\n",
       "      <td>19384.72</td>\n",
       "      <td>M2044282225</td>\n",
       "      <td>0.00</td>\n",
       "      <td>0.00</td>\n",
       "      <td>0</td>\n",
       "    </tr>\n",
       "    <tr>\n",
       "      <th>2</th>\n",
       "      <td>1</td>\n",
       "      <td>4</td>\n",
       "      <td>181.00</td>\n",
       "      <td>C1305486145</td>\n",
       "      <td>181.00</td>\n",
       "      <td>0.00</td>\n",
       "      <td>C553264065</td>\n",
       "      <td>0.00</td>\n",
       "      <td>0.00</td>\n",
       "      <td>1</td>\n",
       "    </tr>\n",
       "    <tr>\n",
       "      <th>3</th>\n",
       "      <td>1</td>\n",
       "      <td>1</td>\n",
       "      <td>181.00</td>\n",
       "      <td>C840083671</td>\n",
       "      <td>181.00</td>\n",
       "      <td>0.00</td>\n",
       "      <td>C38997010</td>\n",
       "      <td>21182.00</td>\n",
       "      <td>0.00</td>\n",
       "      <td>1</td>\n",
       "    </tr>\n",
       "    <tr>\n",
       "      <th>4</th>\n",
       "      <td>1</td>\n",
       "      <td>3</td>\n",
       "      <td>11668.14</td>\n",
       "      <td>C2048537720</td>\n",
       "      <td>41554.00</td>\n",
       "      <td>29885.86</td>\n",
       "      <td>M1230701703</td>\n",
       "      <td>0.00</td>\n",
       "      <td>0.00</td>\n",
       "      <td>0</td>\n",
       "    </tr>\n",
       "    <tr>\n",
       "      <th>...</th>\n",
       "      <td>...</td>\n",
       "      <td>...</td>\n",
       "      <td>...</td>\n",
       "      <td>...</td>\n",
       "      <td>...</td>\n",
       "      <td>...</td>\n",
       "      <td>...</td>\n",
       "      <td>...</td>\n",
       "      <td>...</td>\n",
       "      <td>...</td>\n",
       "    </tr>\n",
       "    <tr>\n",
       "      <th>6351188</th>\n",
       "      <td>699</td>\n",
       "      <td>4</td>\n",
       "      <td>162326.52</td>\n",
       "      <td>C1557504343</td>\n",
       "      <td>162326.52</td>\n",
       "      <td>0.00</td>\n",
       "      <td>C404511346</td>\n",
       "      <td>0.00</td>\n",
       "      <td>0.00</td>\n",
       "      <td>1</td>\n",
       "    </tr>\n",
       "    <tr>\n",
       "      <th>6351189</th>\n",
       "      <td>699</td>\n",
       "      <td>1</td>\n",
       "      <td>162326.52</td>\n",
       "      <td>C1532317723</td>\n",
       "      <td>162326.52</td>\n",
       "      <td>0.00</td>\n",
       "      <td>C446134087</td>\n",
       "      <td>0.00</td>\n",
       "      <td>162326.52</td>\n",
       "      <td>1</td>\n",
       "    </tr>\n",
       "    <tr>\n",
       "      <th>6351190</th>\n",
       "      <td>699</td>\n",
       "      <td>4</td>\n",
       "      <td>2763398.31</td>\n",
       "      <td>C577803442</td>\n",
       "      <td>2763398.31</td>\n",
       "      <td>0.00</td>\n",
       "      <td>C619602282</td>\n",
       "      <td>0.00</td>\n",
       "      <td>0.00</td>\n",
       "      <td>1</td>\n",
       "    </tr>\n",
       "    <tr>\n",
       "      <th>6351191</th>\n",
       "      <td>699</td>\n",
       "      <td>1</td>\n",
       "      <td>2763398.31</td>\n",
       "      <td>C1491503658</td>\n",
       "      <td>2763398.31</td>\n",
       "      <td>0.00</td>\n",
       "      <td>C454424230</td>\n",
       "      <td>339515.35</td>\n",
       "      <td>3102913.66</td>\n",
       "      <td>1</td>\n",
       "    </tr>\n",
       "    <tr>\n",
       "      <th>6351192</th>\n",
       "      <td>699</td>\n",
       "      <td>2</td>\n",
       "      <td>578.21</td>\n",
       "      <td>C700991352</td>\n",
       "      <td>10575.00</td>\n",
       "      <td>9996.79</td>\n",
       "      <td>C1275804655</td>\n",
       "      <td>127072.23</td>\n",
       "      <td>127650.44</td>\n",
       "      <td>0</td>\n",
       "    </tr>\n",
       "  </tbody>\n",
       "</table>\n",
       "<p>6351193 rows × 10 columns</p>\n",
       "</div>"
      ],
      "text/plain": [
       "         step  type      amount     nameOrig  oldbalanceOrig  newbalanceOrig  \\\n",
       "0           1     3     9839.64  C1231006815       170136.00       160296.36   \n",
       "1           1     3     1864.28  C1666544295        21249.00        19384.72   \n",
       "2           1     4      181.00  C1305486145          181.00            0.00   \n",
       "3           1     1      181.00   C840083671          181.00            0.00   \n",
       "4           1     3    11668.14  C2048537720        41554.00        29885.86   \n",
       "...       ...   ...         ...          ...             ...             ...   \n",
       "6351188   699     4   162326.52  C1557504343       162326.52            0.00   \n",
       "6351189   699     1   162326.52  C1532317723       162326.52            0.00   \n",
       "6351190   699     4  2763398.31   C577803442      2763398.31            0.00   \n",
       "6351191   699     1  2763398.31  C1491503658      2763398.31            0.00   \n",
       "6351192   699     2      578.21   C700991352        10575.00         9996.79   \n",
       "\n",
       "            nameDest  oldbalanceDest  newbalanceDest  isFraud  \n",
       "0        M1979787155            0.00            0.00        0  \n",
       "1        M2044282225            0.00            0.00        0  \n",
       "2         C553264065            0.00            0.00        1  \n",
       "3          C38997010        21182.00            0.00        1  \n",
       "4        M1230701703            0.00            0.00        0  \n",
       "...              ...             ...             ...      ...  \n",
       "6351188   C404511346            0.00            0.00        1  \n",
       "6351189   C446134087            0.00       162326.52        1  \n",
       "6351190   C619602282            0.00            0.00        1  \n",
       "6351191   C454424230       339515.35      3102913.66        1  \n",
       "6351192  C1275804655       127072.23       127650.44        0  \n",
       "\n",
       "[6351193 rows x 10 columns]"
      ]
     },
     "execution_count": 3,
     "metadata": {},
     "output_type": "execute_result"
    }
   ],
   "source": [
    "type_encoder = LabelEncoder()\n",
    "type_names = transactions[\"type\"].unique()\n",
    "type_encoder.fit(type_names)\n",
    "type_encoder.classes_ = np.append(type_encoder.classes_, \"<unknown>\")\n",
    "transactions[\"type\"]     = type_encoder.transform(transactions[\"type\"])\n",
    "\n",
    "transactions"
   ]
  },
  {
   "cell_type": "code",
   "execution_count": 4,
   "metadata": {},
   "outputs": [
    {
     "name": "stdout",
     "output_type": "stream",
     "text": [
      "Fraud: 0.12%\n",
      "Non-fraud: 99.88%\n"
     ]
    }
   ],
   "source": [
    "print(\"Fraud: {:.2f}%\".format(len(transactions[transactions[\"isFraud\"] == 1])/len(transactions)*100))\n",
    "print(\"Non-fraud: {:.2f}%\".format(len(transactions[transactions[\"isFraud\"] == 0])/len(transactions)*100))"
   ]
  },
  {
   "cell_type": "markdown",
   "metadata": {},
   "source": [
    "#### Correlation Matrix (Balanced dataset)"
   ]
  },
  {
   "cell_type": "code",
   "execution_count": 5,
   "metadata": {},
   "outputs": [
    {
     "name": "stdout",
     "output_type": "stream",
     "text": [
      "Distribution of the classes in the subsample dataset\n",
      "1    0.5\n",
      "0    0.5\n",
      "Name: isFraud, dtype: float64\n"
     ]
    },
    {
     "data": {
      "image/png": "[encoded data removed]",
      "text/plain": [
       "<Figure size 1080x1080 with 2 Axes>"
      ]
     },
     "metadata": {
      "needs_background": "light"
     },
     "output_type": "display_data"
    }
   ],
   "source": [
    "df = transactions.sample(frac=1)\n",
    "fraud_df = df.loc[df['isFraud'] == 1]\n",
    "non_fraud_df = df.loc[df['isFraud'] == 0][:len(fraud_df)]\n",
    "normal_distributed_df = pd.concat([fraud_df, non_fraud_df])\n",
    "new_df = normal_distributed_df.sample(frac=1)\n",
    "\n",
    "print(\"Distribution of the classes in the subsample dataset\")\n",
    "print(new_df[\"isFraud\"].value_counts()/len(new_df))\n",
    "plt.figure(figsize=(15,15))\n",
    "g = sns.heatmap(new_df.corr(), annot=True, cmap=\"RdYlGn\")"
   ]
  },
  {
   "cell_type": "code",
   "execution_count": 6,
   "metadata": {},
   "outputs": [
    {
     "name": "stdout",
     "output_type": "stream",
     "text": [
      "          Feature         Score\n",
      "2          amount  7.766121e+09\n",
      "4  newbalanceOrig  3.712435e+09\n",
      "3  oldbalanceOrig  1.857097e+09\n",
      "5  oldbalanceDest  1.519365e+09\n",
      "6  newbalanceDest  6.109963e+06\n",
      "0            step  1.394031e+05\n",
      "1            type  1.159852e+03\n"
     ]
    }
   ],
   "source": [
    "# K-Best features using chi2\n",
    "from sklearn.feature_selection import SelectKBest, chi2\n",
    "\n",
    "X = new_df.drop(['isFraud', 'nameOrig', 'nameDest'], axis=1)\n",
    "Y = new_df[\"isFraud\"]\n",
    "\n",
    "bestfeatures = SelectKBest(score_func=chi2, k=7)\n",
    "fit = bestfeatures.fit(X, Y)\n",
    "dfscores = pd.DataFrame(fit.scores_)\n",
    "dfcolumns = pd.DataFrame(X.columns)\n",
    "featureScores = pd.concat([dfcolumns, dfscores], axis=1)\n",
    "featureScores.columns = [\"Feature\", \"Score\"]\n",
    "print(featureScores.nlargest(7, \"Score\"))"
   ]
  },
  {
   "cell_type": "markdown",
   "metadata": {},
   "source": [
    "### Train-test split"
   ]
  },
  {
   "cell_type": "code",
   "execution_count": 7,
   "metadata": {},
   "outputs": [
    {
     "name": "stdout",
     "output_type": "stream",
     "text": [
      "y_train Fraud: 99.88%\n",
      "y_train Non-fraud: 0.12%\n",
      "y_test Fraud: 99.88%\n",
      "y_test Non-fraud: 0.12%\n"
     ]
    }
   ],
   "source": [
    "transactions = pd.read_csv(\"../data/transactions_train.csv\")\n",
    "X = transactions[[\"type\", \"amount\", \"oldbalanceOrig\", \"newbalanceOrig\", \"oldbalanceDest\", \"newbalanceDest\"]]\n",
    "Y = transactions[\"isFraud\"]\n",
    "X_train, X_test, y_train, y_test = train_test_split(X, Y, test_size=0.2)\n",
    "\n",
    "print(\"y_train Fraud: {:.2f}%\".format(y_train.value_counts()[0]/len(y_train)*100))\n",
    "print(\"y_train Non-fraud: {:.2f}%\".format(y_train.value_counts()[1]/len(y_train)*100))\n",
    "print(\"y_test Fraud: {:.2f}%\".format(y_test.value_counts()[0]/len(y_test)*100))\n",
    "print(\"y_test Non-fraud: {:.2f}%\".format(y_test.value_counts()[1]/len(y_test)*100))"
   ]
  },
  {
   "cell_type": "code",
   "execution_count": 8,
   "metadata": {},
   "outputs": [
    {
     "name": "stdout",
     "output_type": "stream",
     "text": [
      "Distribution of y_train set BEFORE balancing: {} Counter({0: 4567240, 1: 5618})\n",
      "Distribution of y_train set AFTER balancing: {} Counter({0: 2809000, 1: 5618})\n",
      "Distribution of y_train set BEFORE balancing: {} Counter({0: 4567247, 1: 5611})\n",
      "Distribution of y_train set AFTER balancing: {} Counter({0: 2805500, 1: 5611})\n",
      "Distribution of y_train set BEFORE balancing: {} Counter({0: 4567272, 1: 5586})\n",
      "Distribution of y_train set AFTER balancing: {} Counter({0: 2793000, 1: 5586})\n",
      "Distribution of y_train set BEFORE balancing: {} Counter({0: 4567265, 1: 5593})\n",
      "Distribution of y_train set AFTER balancing: {} Counter({0: 2796500, 1: 5593})\n",
      "Distribution of y_train set BEFORE balancing: {} Counter({0: 4567275, 1: 5584})\n",
      "Distribution of y_train set AFTER balancing: {} Counter({0: 2792000, 1: 5584})\n",
      "Distribution of y_train set BEFORE balancing: {} Counter({0: 4567284, 1: 5575})\n",
      "Distribution of y_train set AFTER balancing: {} Counter({0: 2787500, 1: 5575})\n",
      "Distribution of y_train set BEFORE balancing: {} Counter({0: 4567224, 1: 5635})\n",
      "Distribution of y_train set AFTER balancing: {} Counter({0: 2817500, 1: 5635})\n",
      "Distribution of y_train set BEFORE balancing: {} Counter({0: 4567251, 1: 5608})\n",
      "Distribution of y_train set AFTER balancing: {} Counter({0: 2804000, 1: 5608})\n",
      "Distribution of y_train set BEFORE balancing: {} Counter({0: 4567255, 1: 5604})\n",
      "Distribution of y_train set AFTER balancing: {} Counter({0: 2802000, 1: 5604})\n",
      "Distribution of y_train set BEFORE balancing: {} Counter({0: 4567284, 1: 5575})\n",
      "Distribution of y_train set AFTER balancing: {} Counter({0: 2787500, 1: 5575})\n"
     ]
    },
    {
     "data": {
      "text/html": [
       "<div>\n",
       "<style scoped>\n",
       "    .dataframe tbody tr th:only-of-type {\n",
       "        vertical-align: middle;\n",
       "    }\n",
       "\n",
       "    .dataframe tbody tr th {\n",
       "        vertical-align: top;\n",
       "    }\n",
       "\n",
       "    .dataframe thead th {\n",
       "        text-align: right;\n",
       "    }\n",
       "</style>\n",
       "<table border=\"1\" class=\"dataframe\">\n",
       "  <thead>\n",
       "    <tr style=\"text-align: right;\">\n",
       "      <th></th>\n",
       "      <th>Fold</th>\n",
       "      <th>Accuracy</th>\n",
       "      <th>F1-Score</th>\n",
       "      <th>TP</th>\n",
       "      <th>FP</th>\n",
       "      <th>FN</th>\n",
       "      <th>TN</th>\n",
       "    </tr>\n",
       "  </thead>\n",
       "  <tbody>\n",
       "    <tr>\n",
       "      <th>0</th>\n",
       "      <td>0</td>\n",
       "      <td>0.9996</td>\n",
       "      <td>0.7881</td>\n",
       "      <td>396</td>\n",
       "      <td>6</td>\n",
       "      <td>207</td>\n",
       "      <td>507487</td>\n",
       "    </tr>\n",
       "    <tr>\n",
       "      <th>1</th>\n",
       "      <td>1</td>\n",
       "      <td>0.9996</td>\n",
       "      <td>0.8212</td>\n",
       "      <td>464</td>\n",
       "      <td>56</td>\n",
       "      <td>146</td>\n",
       "      <td>507430</td>\n",
       "    </tr>\n",
       "    <tr>\n",
       "      <th>2</th>\n",
       "      <td>2</td>\n",
       "      <td>0.9996</td>\n",
       "      <td>0.7949</td>\n",
       "      <td>440</td>\n",
       "      <td>32</td>\n",
       "      <td>195</td>\n",
       "      <td>507429</td>\n",
       "    </tr>\n",
       "    <tr>\n",
       "      <th>3</th>\n",
       "      <td>3</td>\n",
       "      <td>0.9996</td>\n",
       "      <td>0.7903</td>\n",
       "      <td>422</td>\n",
       "      <td>18</td>\n",
       "      <td>206</td>\n",
       "      <td>507450</td>\n",
       "    </tr>\n",
       "    <tr>\n",
       "      <th>4</th>\n",
       "      <td>4</td>\n",
       "      <td>0.9995</td>\n",
       "      <td>0.7958</td>\n",
       "      <td>450</td>\n",
       "      <td>44</td>\n",
       "      <td>187</td>\n",
       "      <td>507414</td>\n",
       "    </tr>\n",
       "    <tr>\n",
       "      <th>5</th>\n",
       "      <td>5</td>\n",
       "      <td>0.9994</td>\n",
       "      <td>0.7584</td>\n",
       "      <td>485</td>\n",
       "      <td>148</td>\n",
       "      <td>161</td>\n",
       "      <td>507301</td>\n",
       "    </tr>\n",
       "    <tr>\n",
       "      <th>6</th>\n",
       "      <td>6</td>\n",
       "      <td>0.9996</td>\n",
       "      <td>0.7839</td>\n",
       "      <td>399</td>\n",
       "      <td>33</td>\n",
       "      <td>187</td>\n",
       "      <td>507476</td>\n",
       "    </tr>\n",
       "    <tr>\n",
       "      <th>7</th>\n",
       "      <td>7</td>\n",
       "      <td>0.9995</td>\n",
       "      <td>0.7727</td>\n",
       "      <td>396</td>\n",
       "      <td>16</td>\n",
       "      <td>217</td>\n",
       "      <td>507466</td>\n",
       "    </tr>\n",
       "    <tr>\n",
       "      <th>8</th>\n",
       "      <td>8</td>\n",
       "      <td>0.9996</td>\n",
       "      <td>0.7913</td>\n",
       "      <td>419</td>\n",
       "      <td>23</td>\n",
       "      <td>198</td>\n",
       "      <td>507455</td>\n",
       "    </tr>\n",
       "    <tr>\n",
       "      <th>9</th>\n",
       "      <td>9</td>\n",
       "      <td>0.9994</td>\n",
       "      <td>0.7547</td>\n",
       "      <td>440</td>\n",
       "      <td>80</td>\n",
       "      <td>206</td>\n",
       "      <td>507369</td>\n",
       "    </tr>\n",
       "  </tbody>\n",
       "</table>\n",
       "</div>"
      ],
      "text/plain": [
       "   Fold  Accuracy  F1-Score   TP   FP   FN      TN\n",
       "0     0    0.9996    0.7881  396    6  207  507487\n",
       "1     1    0.9996    0.8212  464   56  146  507430\n",
       "2     2    0.9996    0.7949  440   32  195  507429\n",
       "3     3    0.9996    0.7903  422   18  206  507450\n",
       "4     4    0.9995    0.7958  450   44  187  507414\n",
       "5     5    0.9994    0.7584  485  148  161  507301\n",
       "6     6    0.9996    0.7839  399   33  187  507476\n",
       "7     7    0.9995    0.7727  396   16  217  507466\n",
       "8     8    0.9996    0.7913  419   23  198  507455\n",
       "9     9    0.9994    0.7547  440   80  206  507369"
      ]
     },
     "execution_count": 8,
     "metadata": {},
     "output_type": "execute_result"
    }
   ],
   "source": [
    "kf = KFold(n_splits=10, shuffle=True)\n",
    "\n",
    "results = {\n",
    "    \"Fold\": [],\n",
    "    \"Accuracy\": [],\n",
    "    \"F1-Score\": [],\n",
    "    \"TP\": [],\n",
    "    \"FP\": [],\n",
    "    \"FN\": [],\n",
    "    \"TN\": [],\n",
    "}\n",
    "\n",
    "fold = 0\n",
    "for train_index, test_index in kf.split(X_train):\n",
    "    X_train_split, X_test_split = X_train.iloc[train_index], X_train.iloc[test_index]\n",
    "    y_train_split, y_test_split = y_train.iloc[train_index], y_train.iloc[test_index]\n",
    "    \n",
    "    # Encode types\n",
    "    type_encoder = LabelEncoder()\n",
    "    type_names = X_train_split[\"type\"].unique()\n",
    "    type_encoder.fit(type_names)\n",
    "    type_encoder.classes_ = np.append(type_encoder.classes_, \"<unknown>\")\n",
    "    X_train_split[\"type\"] = type_encoder.transform(X_train_split[\"type\"])\n",
    "    \n",
    "    # Normalize\n",
    "    scaler = StandardScaler()\n",
    "    X_train_split = scaler.fit_transform(X_train_split)\n",
    "    \n",
    "    print(\"Distribution of y_train set BEFORE balancing: {}\", Counter(y_train_split))\n",
    "    \n",
    "    under = RandomUnderSampler(sampling_strategy=0.002)\n",
    "    X_train_split, y_train_split = under.fit_resample(X_train_split, y_train_split)\n",
    "    \n",
    "    print(\"Distribution of y_train set AFTER balancing: {}\", Counter(y_train_split))\n",
    "    \n",
    "    # model = LogisticRegression()\n",
    "    model = MLPClassifier(hidden_layer_sizes=(8,16,16,8), max_iter=50, alpha=1e-5, solver='adam')\n",
    "    model = model.fit(X_train_split, y_train_split)\n",
    "    \n",
    "    # Encode type\n",
    "    X_test_split.loc[~X_test_split.type.isin(type_encoder.classes_), 'type'] = \"<unknown>\"\n",
    "    X_test_split[\"type\"] = type_encoder.transform(X_test_split[\"type\"])\n",
    "    \n",
    "    X_test_split = scaler.transform(X_test_split)\n",
    "    predictions = model.predict(X_test_split)\n",
    "    \n",
    "    f1score = f1_score(y_test_split, predictions).round(4)\n",
    "    accuracy = accuracy_score(y_test_split, predictions).round(4)\n",
    "    tn, fp, fn, tp = confusion_matrix(y_test_split, predictions).ravel()\n",
    "    \n",
    "    results[\"Fold\"].append(fold)\n",
    "    \n",
    "    results[\"Accuracy\"].append(accuracy)\n",
    "    results[\"F1-Score\"].append(f1score)\n",
    "    results[\"TP\"].append(tp)\n",
    "    results[\"FP\"].append(fp)\n",
    "    results[\"FN\"].append(fn)\n",
    "    results[\"TN\"].append(tn)\n",
    "    \n",
    "    fold += 1\n",
    "\n",
    "results_df = pd.DataFrame(results)\n",
    "results_df"
   ]
  },
  {
   "cell_type": "code",
   "execution_count": 9,
   "metadata": {},
   "outputs": [
    {
     "data": {
      "image/png": "[encoded data removed]",
      "text/plain": [
       "<Figure size 432x288 with 1 Axes>"
      ]
     },
     "metadata": {
      "needs_background": "light"
     },
     "output_type": "display_data"
    }
   ],
   "source": [
    "res = pd.melt(results_df, var_name='metric', value_vars=['Accuracy', 'F1-Score'])\n",
    "g = sns.boxplot(x=\"metric\", y=\"value\", data=res, palette=\"Set3\")\n",
    "plt.title('Comparison of Model by Classification Metric')\n",
    "plt.show()"
   ]
  },
  {
   "cell_type": "markdown",
   "metadata": {},
   "source": [
    "### Evaluate"
   ]
  },
  {
   "cell_type": "code",
   "execution_count": 10,
   "metadata": {},
   "outputs": [],
   "source": [
    "transactions = pd.read_csv(\"../data/transactions_train.csv\")\n",
    "X = transactions[[\"type\", \"amount\", \"oldbalanceOrig\", \"newbalanceOrig\", \"oldbalanceDest\", \"newbalanceDest\"]]\n",
    "Y = transactions[\"isFraud\"]\n",
    "X_train, X_test, y_train, y_test = train_test_split(X, Y, test_size=0.2)"
   ]
  },
  {
   "cell_type": "code",
   "execution_count": 11,
   "metadata": {},
   "outputs": [
    {
     "name": "stdout",
     "output_type": "stream",
     "text": [
      "Distribution of y_train set BEFORE balancing: {} Counter({0: 5074791, 1: 6163})\n",
      "Distribution of y_train set AFTER balancing: {} Counter({0: 3081500, 1: 6163})\n"
     ]
    }
   ],
   "source": [
    "# Encode types\n",
    "type_encoder = LabelEncoder()\n",
    "type_names = X_train[\"type\"].unique()\n",
    "type_encoder.fit(type_names)\n",
    "type_encoder.classes_ = np.append(type_encoder.classes_, \"<unknown>\")\n",
    "X_train[\"type\"] = type_encoder.transform(X_train[\"type\"])\n",
    "\n",
    "# Normalize\n",
    "scaler = StandardScaler()\n",
    "X_train = scaler.fit_transform(X_train)\n",
    "\n",
    "print(\"Distribution of y_train set BEFORE balancing: {}\", Counter(y_train))\n",
    "under = RandomUnderSampler(sampling_strategy=0.002)\n",
    "X_train, y_train = under.fit_resample(X_train, y_train)\n",
    "print(\"Distribution of y_train set AFTER balancing: {}\", Counter(y_train))"
   ]
  },
  {
   "cell_type": "code",
   "execution_count": 12,
   "metadata": {},
   "outputs": [],
   "source": [
    "model = MLPClassifier(hidden_layer_sizes=(8,16,16,8), max_iter=50, alpha=1e-5, solver='adam')\n",
    "model = model.fit(X_train, y_train)"
   ]
  },
  {
   "cell_type": "code",
   "execution_count": 13,
   "metadata": {},
   "outputs": [],
   "source": [
    "# Encode test types\n",
    "X_test.loc[~X_test.type.isin(type_encoder.classes_), 'type'] = \"<unknown>\"\n",
    "X_test[\"type\"] = type_encoder.transform(X_test[\"type\"])"
   ]
  },
  {
   "cell_type": "code",
   "execution_count": 14,
   "metadata": {},
   "outputs": [],
   "source": [
    "X_test = scaler.transform(X_test)"
   ]
  },
  {
   "cell_type": "code",
   "execution_count": 15,
   "metadata": {},
   "outputs": [
    {
     "name": "stdout",
     "output_type": "stream",
     "text": [
      "F1Score: 0.8325\n",
      "Accuracy: 0.9996\n"
     ]
    },
    {
     "data": {
      "text/html": [
       "<div>\n",
       "<style scoped>\n",
       "    .dataframe tbody tr th:only-of-type {\n",
       "        vertical-align: middle;\n",
       "    }\n",
       "\n",
       "    .dataframe tbody tr th {\n",
       "        vertical-align: top;\n",
       "    }\n",
       "\n",
       "    .dataframe thead th {\n",
       "        text-align: right;\n",
       "    }\n",
       "</style>\n",
       "<table border=\"1\" class=\"dataframe\">\n",
       "  <thead>\n",
       "    <tr style=\"text-align: right;\">\n",
       "      <th></th>\n",
       "      <th>Prediction (Y)</th>\n",
       "      <th>Prediction: (N)</th>\n",
       "    </tr>\n",
       "  </thead>\n",
       "  <tbody>\n",
       "    <tr>\n",
       "      <th>True (Y)</th>\n",
       "      <td>1268563</td>\n",
       "      <td>122</td>\n",
       "    </tr>\n",
       "    <tr>\n",
       "      <th>True (N)</th>\n",
       "      <td>359</td>\n",
       "      <td>1195</td>\n",
       "    </tr>\n",
       "  </tbody>\n",
       "</table>\n",
       "</div>"
      ],
      "text/plain": [
       "          Prediction (Y)  Prediction: (N)\n",
       "True (Y)         1268563              122\n",
       "True (N)             359             1195"
      ]
     },
     "execution_count": 15,
     "metadata": {},
     "output_type": "execute_result"
    }
   ],
   "source": [
    "predictions = model.predict(X_test)\n",
    "\n",
    "f1score = f1_score(y_test, predictions).round(4)\n",
    "accuracy = accuracy_score(y_test, predictions).round(4)\n",
    "cm = confusion_matrix(y_test,predictions)\n",
    "\n",
    "print(\"F1Score: {}\".format(f1score))\n",
    "print(\"Accuracy: {}\".format(accuracy))\n",
    "\n",
    "cmtx = pd.DataFrame(cm, index=['True (Y)', 'True (N)'], columns=['Prediction (Y)', 'Prediction: (N)'])\n",
    "cmtx"
   ]
  },
  {
   "cell_type": "code",
   "execution_count": 16,
   "metadata": {},
   "outputs": [
    {
     "data": {
      "image/png": "[encoded data removed]",
      "text/plain": [
       "<Figure size 432x288 with 1 Axes>"
      ]
     },
     "metadata": {
      "needs_background": "light"
     },
     "output_type": "display_data"
    }
   ],
   "source": [
    "RocCurveDisplay.from_predictions(y_test, predictions)\n",
    "plt.show()"
   ]
  },
  {
   "cell_type": "markdown",
   "metadata": {},
   "source": [
    "### Store Artifacts"
   ]
  },
  {
   "cell_type": "code",
   "execution_count": 17,
   "metadata": {},
   "outputs": [],
   "source": [
    "def dump_artifact(artifact, artifact_path):\n",
    "    with open(artifact_path, 'wb') as handle:\n",
    "        pickle.dump(artifact, handle, protocol=pickle.HIGHEST_PROTOCOL)\n",
    "\n",
    "artifacts = {\n",
    "    \"type_encoder\": type_encoder,\n",
    "    \"model\": model,\n",
    "    \"scaler\": scaler\n",
    "}\n",
    "dump_artifact(artifacts, \"../artifacts/artifacts.pkl\")"
   ]
  }
 ],
 "metadata": {
  "kernelspec": {
   "display_name": "Python 3 (ipykernel)",
   "language": "python",
   "name": "python3"
  },
  "language_info": {
   "codemirror_mode": {
    "name": "ipython",
    "version": 3
   },
   "file_extension": ".py",
   "mimetype": "text/x-python",
   "name": "python",
   "nbconvert_exporter": "python",
   "pygments_lexer": "ipython3",
   "version": "3.9.7"
  }
 },
 "nbformat": 4,
 "nbformat_minor": 4
}
